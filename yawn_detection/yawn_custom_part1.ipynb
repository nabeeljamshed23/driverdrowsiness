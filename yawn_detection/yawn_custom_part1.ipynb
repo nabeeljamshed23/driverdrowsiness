{
 "cells": [
  {
   "cell_type": "code",
   "execution_count": 1,
   "metadata": {},
   "outputs": [],
   "source": [
    "import numpy as np \n",
    "import pandas as pd \n",
    "import os\n",
    "import tensorflow as tf\n",
    "\n",
    "from glob import glob\n",
    "from tqdm import tqdm\n",
    "\n",
    "import matplotlib.pyplot as plt\n",
    "from PIL import Image"
   ]
  },
  {
   "cell_type": "code",
   "execution_count": 7,
   "metadata": {},
   "outputs": [],
   "source": [
    "import cv2 as cv"
   ]
  },
  {
   "cell_type": "code",
   "execution_count": 11,
   "metadata": {},
   "outputs": [
    {
     "name": "stderr",
     "output_type": "stream",
     "text": [
      "  0%|          | 0/6000 [00:00<?, ?it/s]"
     ]
    },
    {
     "name": "stderr",
     "output_type": "stream",
     "text": [
      "100%|██████████| 6000/6000 [00:00<00:00, 8169.86it/s]\n",
      "100%|██████████| 6000/6000 [00:00<00:00, 12015.54it/s]\n"
     ]
    }
   ],
   "source": [
    "X = []\n",
    "Y = []\n",
    "\n",
    "for i in tqdm(glob('../yawn_dataset/yawn/*')[0:6000]):\n",
    "    x = cv.imread(i)\n",
    "    x = cv.cvtColor(x, cv.COLOR_BGR2GRAY)\n",
    "    x = cv.resize(x, (64,64))\n",
    "    temp = np.array(x)\n",
    "    X.append(temp)\n",
    "    Y.append(1)\n",
    "    \n",
    "for i in tqdm(glob('../yawn_dataset/no_yawn/*')[0:6000]):\n",
    "    x = cv.imread(i)\n",
    "    x = cv.cvtColor(x, cv.COLOR_RGB2GRAY)\n",
    "    x = cv.resize(x, (64,64))\n",
    "    temp = np.array(x)\n",
    "    X.append(temp)\n",
    "    Y.append(0)"
   ]
  },
  {
   "cell_type": "code",
   "execution_count": 12,
   "metadata": {},
   "outputs": [],
   "source": [
    "# Pre Processing\n",
    "X = np.array(X)\n",
    "X = X/255.0\n",
    "Y = np.array(Y)\n",
    "\n",
    "X = np.expand_dims(X,-1)"
   ]
  },
  {
   "cell_type": "code",
   "execution_count": 13,
   "metadata": {},
   "outputs": [
    {
     "name": "stdout",
     "output_type": "stream",
     "text": [
      "10800\n",
      "1200\n"
     ]
    }
   ],
   "source": [
    "# test-train split \n",
    "from sklearn.model_selection import train_test_split\n",
    "x_train, x_test, y_train, y_test = train_test_split(X, Y, test_size=0.1, random_state=42)\n",
    "\n",
    "print(y_train.size)\n",
    "print(y_test.size)"
   ]
  },
  {
   "cell_type": "code",
   "execution_count": 14,
   "metadata": {},
   "outputs": [
    {
     "name": "stderr",
     "output_type": "stream",
     "text": [
      "2023-11-22 01:06:50.873865: I metal_plugin/src/device/metal_device.cc:1154] Metal device set to: Apple M1\n",
      "2023-11-22 01:06:50.873922: I metal_plugin/src/device/metal_device.cc:296] systemMemory: 8.00 GB\n",
      "2023-11-22 01:06:50.873927: I metal_plugin/src/device/metal_device.cc:313] maxCacheSize: 2.67 GB\n",
      "2023-11-22 01:06:50.874966: I tensorflow/core/common_runtime/pluggable_device/pluggable_device_factory.cc:303] Could not identify NUMA node of platform GPU ID 0, defaulting to 0. Your kernel may not have been built with NUMA support.\n",
      "2023-11-22 01:06:50.876931: I tensorflow/core/common_runtime/pluggable_device/pluggable_device_factory.cc:269] Created TensorFlow device (/job:localhost/replica:0/task:0/device:GPU:0 with 0 MB memory) -> physical PluggableDevice (device: 0, name: METAL, pci bus id: <undefined>)\n"
     ]
    }
   ],
   "source": [
    "# Model Building \n",
    "from tensorflow.keras.models import Sequential\n",
    "from tensorflow.keras.layers import Dense, Input, Conv2D, BatchNormalization, MaxPooling2D,Dropout, Flatten\n",
    "\n",
    "model = tf.keras.models.Sequential([\n",
    "    Input(shape=(64, 64, 1)),\n",
    "\n",
    "    Conv2D(filters = 64, kernel_size = 5, strides = 1, activation = 'relu'),\n",
    "    Conv2D(filters = 64, kernel_size = 5, strides = 1, activation = 'relu', use_bias=False),\n",
    "    BatchNormalization(),\n",
    "    MaxPooling2D(strides = 2),\n",
    "    Dropout(0.3),\n",
    "\n",
    "    Conv2D(filters = 32, kernel_size = 3, strides = 1, activation = 'relu'),\n",
    "    Conv2D(filters = 32, kernel_size = 3, strides = 1, activation = 'relu', use_bias=False),\n",
    "    BatchNormalization(),\n",
    "    MaxPooling2D(strides = 2),\n",
    "    Dropout(0.3),\n",
    "\n",
    "    Flatten(),\n",
    "    Dense(units  = 256, activation = 'relu', use_bias=False),\n",
    "    BatchNormalization(),\n",
    "\n",
    "    Dense(units = 128, use_bias=False, activation = 'relu'),\n",
    "\n",
    "    Dense(units = 64, use_bias=False, activation = 'relu'),\n",
    "    BatchNormalization(),\n",
    "    Dropout(0.4),\n",
    "\n",
    "    Dense(units = 1, activation = 'sigmoid')\n",
    "])"
   ]
  },
  {
   "cell_type": "code",
   "execution_count": 15,
   "metadata": {},
   "outputs": [
    {
     "name": "stdout",
     "output_type": "stream",
     "text": [
      "Model: \"sequential\"\n",
      "_________________________________________________________________\n",
      " Layer (type)                Output Shape              Param #   \n",
      "=================================================================\n",
      " conv2d (Conv2D)             (None, 60, 60, 64)        1664      \n",
      "                                                                 \n",
      " conv2d_1 (Conv2D)           (None, 56, 56, 64)        102400    \n",
      "                                                                 \n",
      " batch_normalization (Batch  (None, 56, 56, 64)        256       \n",
      " Normalization)                                                  \n",
      "                                                                 \n",
      " max_pooling2d (MaxPooling2  (None, 28, 28, 64)        0         \n",
      " D)                                                              \n",
      "                                                                 \n",
      " dropout (Dropout)           (None, 28, 28, 64)        0         \n",
      "                                                                 \n",
      " conv2d_2 (Conv2D)           (None, 26, 26, 32)        18464     \n",
      "                                                                 \n",
      " conv2d_3 (Conv2D)           (None, 24, 24, 32)        9216      \n",
      "                                                                 \n",
      " batch_normalization_1 (Bat  (None, 24, 24, 32)        128       \n",
      " chNormalization)                                                \n",
      "                                                                 \n",
      " max_pooling2d_1 (MaxPoolin  (None, 12, 12, 32)        0         \n",
      " g2D)                                                            \n",
      "                                                                 \n",
      " dropout_1 (Dropout)         (None, 12, 12, 32)        0         \n",
      "                                                                 \n",
      " flatten (Flatten)           (None, 4608)              0         \n",
      "                                                                 \n",
      " dense (Dense)               (None, 256)               1179648   \n",
      "                                                                 \n",
      " batch_normalization_2 (Bat  (None, 256)               1024      \n",
      " chNormalization)                                                \n",
      "                                                                 \n",
      " dense_1 (Dense)             (None, 128)               32768     \n",
      "                                                                 \n",
      " dense_2 (Dense)             (None, 64)                8192      \n",
      "                                                                 \n",
      " batch_normalization_3 (Bat  (None, 64)                256       \n",
      " chNormalization)                                                \n",
      "                                                                 \n",
      " dropout_2 (Dropout)         (None, 64)                0         \n",
      "                                                                 \n",
      " dense_3 (Dense)             (None, 1)                 65        \n",
      "                                                                 \n",
      "=================================================================\n",
      "Total params: 1354081 (5.17 MB)\n",
      "Trainable params: 1353249 (5.16 MB)\n",
      "Non-trainable params: 832 (3.25 KB)\n",
      "_________________________________________________________________\n"
     ]
    }
   ],
   "source": [
    "model.summary()"
   ]
  },
  {
   "cell_type": "code",
   "execution_count": 16,
   "metadata": {},
   "outputs": [],
   "source": [
    "#  Compiling \n",
    "model.compile(loss='binary_crossentropy',optimizer='adam', metrics=['accuracy'])\n",
    "callback = tf.keras.callbacks.ModelCheckpoint(\n",
    "    filepath='yawn_model_1.h5',\n",
    "    save_weights_only=False,\n",
    "    monitor='val_loss',\n",
    "    mode='min',\n",
    "    save_best_only=True,\n",
    "    verbose =1)"
   ]
  },
  {
   "cell_type": "code",
   "execution_count": 17,
   "metadata": {},
   "outputs": [
    {
     "name": "stdout",
     "output_type": "stream",
     "text": [
      "Epoch 1/30\n"
     ]
    },
    {
     "name": "stderr",
     "output_type": "stream",
     "text": [
      "2023-11-22 01:07:38.217676: I tensorflow/core/grappler/optimizers/custom_graph_optimizer_registry.cc:114] Plugin optimizer for device_type GPU is enabled.\n"
     ]
    },
    {
     "name": "stdout",
     "output_type": "stream",
     "text": [
      "270/270 [==============================] - ETA: 0s - loss: 0.3113 - accuracy: 0.8661"
     ]
    },
    {
     "name": "stderr",
     "output_type": "stream",
     "text": [
      "2023-11-22 01:08:21.289463: I tensorflow/core/grappler/optimizers/custom_graph_optimizer_registry.cc:114] Plugin optimizer for device_type GPU is enabled.\n"
     ]
    },
    {
     "name": "stdout",
     "output_type": "stream",
     "text": [
      "\n",
      "Epoch 1: val_loss improved from inf to 1.26907, saving model to yawn_model_1.h5\n",
      "270/270 [==============================] - 52s 145ms/step - loss: 0.3113 - accuracy: 0.8661 - val_loss: 1.2691 - val_accuracy: 0.5472\n",
      "Epoch 2/30\n",
      "  1/270 [..............................] - ETA: 20s - loss: 0.1411 - accuracy: 0.9688"
     ]
    },
    {
     "name": "stderr",
     "output_type": "stream",
     "text": [
      "/Users/umarkhan/miniconda3/envs/tensorflow/lib/python3.10/site-packages/keras/src/engine/training.py:3000: UserWarning: You are saving your model as an HDF5 file via `model.save()`. This file format is considered legacy. We recommend using instead the native Keras format, e.g. `model.save('my_model.keras')`.\n",
      "  saving_api.save_model(\n"
     ]
    },
    {
     "name": "stdout",
     "output_type": "stream",
     "text": [
      "270/270 [==============================] - ETA: 0s - loss: 0.1737 - accuracy: 0.9343\n",
      "Epoch 2: val_loss improved from 1.26907 to 0.16245, saving model to yawn_model_1.h5\n",
      "270/270 [==============================] - 33s 124ms/step - loss: 0.1737 - accuracy: 0.9343 - val_loss: 0.1624 - val_accuracy: 0.9491\n",
      "Epoch 3/30\n",
      "270/270 [==============================] - ETA: 0s - loss: 0.1173 - accuracy: 0.9574\n",
      "Epoch 3: val_loss improved from 0.16245 to 0.10364, saving model to yawn_model_1.h5\n",
      "270/270 [==============================] - 33s 123ms/step - loss: 0.1173 - accuracy: 0.9574 - val_loss: 0.1036 - val_accuracy: 0.9662\n",
      "Epoch 4/30\n",
      "270/270 [==============================] - ETA: 0s - loss: 0.0954 - accuracy: 0.9679\n",
      "Epoch 4: val_loss did not improve from 0.10364\n",
      "270/270 [==============================] - 33s 123ms/step - loss: 0.0954 - accuracy: 0.9679 - val_loss: 0.1866 - val_accuracy: 0.9273\n",
      "Epoch 5/30\n",
      "270/270 [==============================] - ETA: 0s - loss: 0.0840 - accuracy: 0.9699\n",
      "Epoch 5: val_loss did not improve from 0.10364\n",
      "270/270 [==============================] - 33s 123ms/step - loss: 0.0840 - accuracy: 0.9699 - val_loss: 0.1041 - val_accuracy: 0.9625\n",
      "Epoch 6/30\n",
      "270/270 [==============================] - ETA: 0s - loss: 0.0635 - accuracy: 0.9786\n",
      "Epoch 6: val_loss did not improve from 0.10364\n",
      "270/270 [==============================] - 33s 124ms/step - loss: 0.0635 - accuracy: 0.9786 - val_loss: 0.1130 - val_accuracy: 0.9648\n",
      "Epoch 7/30\n",
      "270/270 [==============================] - ETA: 0s - loss: 0.0662 - accuracy: 0.9745\n",
      "Epoch 7: val_loss improved from 0.10364 to 0.09198, saving model to yawn_model_1.h5\n",
      "270/270 [==============================] - 33s 124ms/step - loss: 0.0662 - accuracy: 0.9745 - val_loss: 0.0920 - val_accuracy: 0.9704\n",
      "Epoch 8/30\n",
      "270/270 [==============================] - ETA: 0s - loss: 0.0465 - accuracy: 0.9830\n",
      "Epoch 8: val_loss did not improve from 0.09198\n",
      "270/270 [==============================] - 34s 127ms/step - loss: 0.0465 - accuracy: 0.9830 - val_loss: 0.1342 - val_accuracy: 0.9560\n",
      "Epoch 9/30\n",
      "270/270 [==============================] - ETA: 0s - loss: 0.0462 - accuracy: 0.9839\n",
      "Epoch 9: val_loss did not improve from 0.09198\n",
      "270/270 [==============================] - 34s 127ms/step - loss: 0.0462 - accuracy: 0.9839 - val_loss: 0.1063 - val_accuracy: 0.9667\n",
      "Epoch 10/30\n",
      "270/270 [==============================] - ETA: 0s - loss: 0.0462 - accuracy: 0.9841\n",
      "Epoch 10: val_loss did not improve from 0.09198\n",
      "270/270 [==============================] - 33s 124ms/step - loss: 0.0462 - accuracy: 0.9841 - val_loss: 0.1147 - val_accuracy: 0.9648\n",
      "Epoch 11/30\n",
      "270/270 [==============================] - ETA: 0s - loss: 0.0334 - accuracy: 0.9875\n",
      "Epoch 11: val_loss did not improve from 0.09198\n",
      "270/270 [==============================] - 34s 125ms/step - loss: 0.0334 - accuracy: 0.9875 - val_loss: 0.1514 - val_accuracy: 0.9528\n",
      "Epoch 12/30\n",
      "270/270 [==============================] - ETA: 0s - loss: 0.0385 - accuracy: 0.9875\n",
      "Epoch 12: val_loss did not improve from 0.09198\n",
      "270/270 [==============================] - 33s 123ms/step - loss: 0.0385 - accuracy: 0.9875 - val_loss: 0.1497 - val_accuracy: 0.9602\n",
      "Epoch 13/30\n",
      "270/270 [==============================] - ETA: 0s - loss: 0.0319 - accuracy: 0.9887\n",
      "Epoch 13: val_loss did not improve from 0.09198\n",
      "270/270 [==============================] - 33s 124ms/step - loss: 0.0319 - accuracy: 0.9887 - val_loss: 0.1028 - val_accuracy: 0.9769\n",
      "Epoch 14/30\n",
      "270/270 [==============================] - ETA: 0s - loss: 0.0265 - accuracy: 0.9909\n",
      "Epoch 14: val_loss did not improve from 0.09198\n",
      "270/270 [==============================] - 34s 126ms/step - loss: 0.0265 - accuracy: 0.9909 - val_loss: 0.1172 - val_accuracy: 0.9676\n",
      "Epoch 15/30\n",
      "270/270 [==============================] - ETA: 0s - loss: 0.0292 - accuracy: 0.9910\n",
      "Epoch 15: val_loss did not improve from 0.09198\n",
      "270/270 [==============================] - 35s 128ms/step - loss: 0.0292 - accuracy: 0.9910 - val_loss: 0.1591 - val_accuracy: 0.9625\n",
      "Epoch 16/30\n",
      "270/270 [==============================] - ETA: 0s - loss: 0.0249 - accuracy: 0.9904\n",
      "Epoch 16: val_loss did not improve from 0.09198\n",
      "270/270 [==============================] - 34s 124ms/step - loss: 0.0249 - accuracy: 0.9904 - val_loss: 0.2026 - val_accuracy: 0.9454\n",
      "Epoch 17/30\n",
      "270/270 [==============================] - ETA: 0s - loss: 0.0241 - accuracy: 0.9929\n",
      "Epoch 17: val_loss improved from 0.09198 to 0.08700, saving model to yawn_model_1.h5\n",
      "270/270 [==============================] - 34s 125ms/step - loss: 0.0241 - accuracy: 0.9929 - val_loss: 0.0870 - val_accuracy: 0.9778\n",
      "Epoch 18/30\n",
      "270/270 [==============================] - ETA: 0s - loss: 0.0224 - accuracy: 0.9924\n",
      "Epoch 18: val_loss did not improve from 0.08700\n",
      "270/270 [==============================] - 34s 124ms/step - loss: 0.0224 - accuracy: 0.9924 - val_loss: 0.2694 - val_accuracy: 0.9361\n",
      "Epoch 19/30\n",
      "270/270 [==============================] - ETA: 0s - loss: 0.0324 - accuracy: 0.9882\n",
      "Epoch 19: val_loss did not improve from 0.08700\n",
      "270/270 [==============================] - 34s 125ms/step - loss: 0.0324 - accuracy: 0.9882 - val_loss: 0.1922 - val_accuracy: 0.9347\n",
      "Epoch 20/30\n",
      "270/270 [==============================] - ETA: 0s - loss: 0.0257 - accuracy: 0.9907\n",
      "Epoch 20: val_loss did not improve from 0.08700\n",
      "270/270 [==============================] - 34s 125ms/step - loss: 0.0257 - accuracy: 0.9907 - val_loss: 0.1566 - val_accuracy: 0.9574\n",
      "Epoch 21/30\n",
      "270/270 [==============================] - ETA: 0s - loss: 0.0282 - accuracy: 0.9903\n",
      "Epoch 21: val_loss did not improve from 0.08700\n",
      "270/270 [==============================] - 34s 125ms/step - loss: 0.0282 - accuracy: 0.9903 - val_loss: 0.1427 - val_accuracy: 0.9625\n",
      "Epoch 22/30\n",
      "270/270 [==============================] - ETA: 0s - loss: 0.0277 - accuracy: 0.9906\n",
      "Epoch 22: val_loss did not improve from 0.08700\n",
      "270/270 [==============================] - 34s 125ms/step - loss: 0.0277 - accuracy: 0.9906 - val_loss: 0.1134 - val_accuracy: 0.9657\n",
      "Epoch 23/30\n",
      "270/270 [==============================] - ETA: 0s - loss: 0.0204 - accuracy: 0.9928\n",
      "Epoch 23: val_loss did not improve from 0.08700\n",
      "270/270 [==============================] - 34s 124ms/step - loss: 0.0204 - accuracy: 0.9928 - val_loss: 0.0971 - val_accuracy: 0.9736\n",
      "Epoch 24/30\n",
      "270/270 [==============================] - ETA: 0s - loss: 0.0159 - accuracy: 0.9949\n",
      "Epoch 24: val_loss improved from 0.08700 to 0.08560, saving model to yawn_model_1.h5\n",
      "270/270 [==============================] - 34s 125ms/step - loss: 0.0159 - accuracy: 0.9949 - val_loss: 0.0856 - val_accuracy: 0.9810\n",
      "Epoch 25/30\n",
      "270/270 [==============================] - ETA: 0s - loss: 0.0163 - accuracy: 0.9944\n",
      "Epoch 25: val_loss did not improve from 0.08560\n",
      "270/270 [==============================] - 34s 125ms/step - loss: 0.0163 - accuracy: 0.9944 - val_loss: 0.1095 - val_accuracy: 0.9713\n",
      "Epoch 26/30\n",
      "270/270 [==============================] - ETA: 0s - loss: 0.0149 - accuracy: 0.9962\n",
      "Epoch 26: val_loss did not improve from 0.08560\n",
      "270/270 [==============================] - 34s 124ms/step - loss: 0.0149 - accuracy: 0.9962 - val_loss: 0.1150 - val_accuracy: 0.9736\n",
      "Epoch 27/30\n",
      "270/270 [==============================] - ETA: 0s - loss: 0.0152 - accuracy: 0.9955\n",
      "Epoch 27: val_loss did not improve from 0.08560\n",
      "270/270 [==============================] - 34s 125ms/step - loss: 0.0152 - accuracy: 0.9955 - val_loss: 0.1355 - val_accuracy: 0.9671\n",
      "Epoch 28/30\n",
      "270/270 [==============================] - ETA: 0s - loss: 0.0187 - accuracy: 0.9927\n",
      "Epoch 28: val_loss did not improve from 0.08560\n",
      "270/270 [==============================] - 36s 133ms/step - loss: 0.0187 - accuracy: 0.9927 - val_loss: 0.1137 - val_accuracy: 0.9764\n",
      "Epoch 29/30\n",
      "270/270 [==============================] - ETA: 0s - loss: 0.0151 - accuracy: 0.9951\n",
      "Epoch 29: val_loss did not improve from 0.08560\n",
      "270/270 [==============================] - 37s 139ms/step - loss: 0.0151 - accuracy: 0.9951 - val_loss: 0.0987 - val_accuracy: 0.9769\n",
      "Epoch 30/30\n",
      "270/270 [==============================] - ETA: 0s - loss: 0.0140 - accuracy: 0.9963\n",
      "Epoch 30: val_loss did not improve from 0.08560\n",
      "270/270 [==============================] - 38s 141ms/step - loss: 0.0140 - accuracy: 0.9963 - val_loss: 0.0887 - val_accuracy: 0.9778\n"
     ]
    },
    {
     "data": {
      "text/plain": [
       "<keras.src.callbacks.History at 0x298345a50>"
      ]
     },
     "execution_count": 17,
     "metadata": {},
     "output_type": "execute_result"
    }
   ],
   "source": [
    "# training the model \n",
    "model.fit(x_train, y_train, validation_split=0.2, epochs=30, batch_size=32, callbacks=callback)"
   ]
  },
  {
   "cell_type": "code",
   "execution_count": 18,
   "metadata": {},
   "outputs": [
    {
     "name": "stderr",
     "output_type": "stream",
     "text": [
      "2023-11-22 01:24:59.495977: I tensorflow/core/grappler/optimizers/custom_graph_optimizer_registry.cc:114] Plugin optimizer for device_type GPU is enabled.\n"
     ]
    },
    {
     "name": "stdout",
     "output_type": "stream",
     "text": [
      "38/38 [==============================] - 6s 91ms/step - loss: 0.0718 - accuracy: 0.9817\n"
     ]
    },
    {
     "data": {
      "text/plain": [
       "[0.07177838683128357, 0.9816666841506958]"
      ]
     },
     "execution_count": 18,
     "metadata": {},
     "output_type": "execute_result"
    }
   ],
   "source": [
    "# evaluating the model \n",
    "from keras.models import load_model\n",
    "best_model = load_model('yawn_model_1.h5')\n",
    "best_model.evaluate(x_test, y_test)"
   ]
  },
  {
   "cell_type": "code",
   "execution_count": 19,
   "metadata": {},
   "outputs": [
    {
     "data": {
      "image/png": "[encoded data removed]",
      "text/plain": [
       "<Figure size 640x480 with 1 Axes>"
      ]
     },
     "metadata": {},
     "output_type": "display_data"
    }
   ],
   "source": [
    "# accuracy \n",
    "fig1 = plt.gcf()\n",
    "plt.plot(model.history.history['accuracy'])\n",
    "plt.plot(model.history.history['val_accuracy'])\n",
    "plt.axis(ymin=0,ymax=1)\n",
    "plt.grid()\n",
    "plt.title('Model Accuracy')\n",
    "plt.ylabel('Accuracy')\n",
    "plt.xlabel('Epochs')\n",
    "plt.legend(['train', 'validation'])\n",
    "plt.show()"
   ]
  },
  {
   "cell_type": "code",
   "execution_count": 20,
   "metadata": {},
   "outputs": [
    {
     "data": {
      "image/png": "[encoded data removed]",
      "text/plain": [
       "<Figure size 640x480 with 1 Axes>"
      ]
     },
     "metadata": {},
     "output_type": "display_data"
    }
   ],
   "source": [
    "# loss\n",
    "fig1 = plt.gcf()\n",
    "plt.plot(model.history.history['loss'])\n",
    "plt.plot(model.history.history['val_loss'])\n",
    "plt.axis(ymin=0,ymax=1.4)\n",
    "plt.grid()\n",
    "plt.title('Model Loss')\n",
    "plt.ylabel('Loss')\n",
    "plt.xlabel('Epochs')\n",
    "plt.legend(['train', 'validation'])\n",
    "plt.show()"
   ]
  },
  {
   "cell_type": "code",
   "execution_count": 24,
   "metadata": {},
   "outputs": [
    {
     "name": "stdout",
     "output_type": "stream",
     "text": [
      "38/38 [==============================] - 1s 36ms/step\n"
     ]
    },
    {
     "data": {
      "text/plain": [
       "Text(0.5, 25.722222222222214, 'Actual')"
      ]
     },
     "execution_count": 24,
     "metadata": {},
     "output_type": "execute_result"
    },
    {
     "data": {
      "image/png": "[encoded data removed]",
      "text/plain": [
       "<Figure size 1500x500 with 2 Axes>"
      ]
     },
     "metadata": {},
     "output_type": "display_data"
    }
   ],
   "source": [
    "# confusion matrix \n",
    "from sklearn.metrics import confusion_matrix\n",
    "import seaborn as sns\n",
    "\n",
    "plt.figure(figsize=(15, 5))\n",
    "\n",
    "preds = best_model.predict(x_test)\n",
    "preds = (preds >= 0.5).astype(np.int32)\n",
    "cm = confusion_matrix(y_test, preds)\n",
    "# print(cm)\n",
    "df_cm = pd.DataFrame(cm, index=['Open(1)', 'Closed(0)'], columns=['Open(1)', 'Closed(0)'])\n",
    "plt.subplot(121)\n",
    "plt.title(\"Confusion matrix\\n\")\n",
    "sns.heatmap(df_cm, annot=True, fmt=\"d\", cmap=\"YlGnBu\")\n",
    "plt.ylabel(\"Predicted\")\n",
    "plt.xlabel(\"Actual\")"
   ]
  },
  {
   "cell_type": "code",
   "execution_count": 25,
   "metadata": {},
   "outputs": [
    {
     "name": "stdout",
     "output_type": "stream",
     "text": [
      "Accuracy:  0.9816666666666667\n",
      "Precision:  0.9897610921501706\n",
      "Recall:  0.9731543624161074\n",
      "F1 Score:  0.9813874788494078\n"
     ]
    }
   ],
   "source": [
    "# | TP | FP |\n",
    "# | FN | TN |\n",
    "tp = cm[0][0]\n",
    "fn = cm[1][0]\n",
    "fp = cm[0][1]\n",
    "tn = cm[1][1]\n",
    "accuracy = (tp+tn)/(tp+tn+fp+fn)\n",
    "precision = tp/(tp+fp)\n",
    "recall = tp/(tp+fn)\n",
    "f1 = 2*precision*recall/(precision+recall)\n",
    "\n",
    "print(\"Accuracy: \", accuracy)\n",
    "print(\"Precision: \", precision)\n",
    "print(\"Recall: \", recall)\n",
    "print(\"F1 Score: \", f1)"
   ]
  },
  {
   "cell_type": "code",
   "execution_count": null,
   "metadata": {},
   "outputs": [],
   "source": []
  }
 ],
 "metadata": {
  "kernelspec": {
   "display_name": "Python 3.10 (tensorflow)",
   "language": "python",
   "name": "tensorflow"
  },
  "language_info": {
   "codemirror_mode": {
    "name": "ipython",
    "version": 3
   },
   "file_extension": ".py",
   "mimetype": "text/x-python",
   "name": "python",
   "nbconvert_exporter": "python",
   "pygments_lexer": "ipython3",
   "version": "3.10.12"
  }
 },
 "nbformat": 4,
 "nbformat_minor": 2
}
